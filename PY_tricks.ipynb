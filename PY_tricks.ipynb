{
  "nbformat": 4,
  "nbformat_minor": 0,
  "metadata": {
    "colab": {
      "provenance": [],
      "authorship_tag": "ABX9TyNurXdqH42OZ2oNYTIIzmbS",
      "include_colab_link": true
    },
    "kernelspec": {
      "name": "python3",
      "display_name": "Python 3"
    },
    "language_info": {
      "name": "python"
    }
  },
  "cells": [
    {
      "cell_type": "markdown",
      "metadata": {
        "id": "view-in-github",
        "colab_type": "text"
      },
      "source": [
        "<a href=\"https://colab.research.google.com/github/kiananasiri/2.Bonjour-to-Python/blob/main/PY_tricks.ipynb\" target=\"_parent\"><img src=\"https://colab.research.google.com/assets/colab-badge.svg\" alt=\"Open In Colab\"/></a>"
      ]
    },
    {
      "cell_type": "markdown",
      "source": [
        "# **Tricks**"
      ],
      "metadata": {
        "id": "Hag3wHMxAdJm"
      }
    },
    {
      "cell_type": "markdown",
      "source": [
        "In Python classes, the self argument in method definitions refers to the instance of the class that is calling the method. It allows methods to access the instance’s attributes and other methods.\n",
        "\n",
        "Without self: If a method doesn't take self, it means the method either:\n",
        "Is a static method, which does not operate on any instance of the class and doesn't need self.\n",
        "Is improperly defined and won't have access to instance attributes."
      ],
      "metadata": {
        "id": "_--tiZRjAknO"
      }
    },
    {
      "cell_type": "code",
      "source": [
        "class MyClass:\n",
        "    # Constructor method with 'self'\n",
        "    def __init__(self, name):\n",
        "        self.name = name  # Instance attribute\n",
        "\n",
        "    # Instance method with 'self' (can access instance attributes)\n",
        "    def greet(self):\n",
        "        return f\"Hello, {self.name}!\"  # Uses 'self.name' from the instance\n",
        "\n",
        "    # Instance method without 'self' (incorrect usage)\n",
        "    def incorrect_method():\n",
        "        print(\"This method is missing 'self', it will cause an error.\")\n",
        "\n",
        "    # Static method without 'self'\n",
        "    @staticmethod\n",
        "    def static_method():\n",
        "        return \"This is a static method and does not need 'self'.\"\n",
        "\n",
        "# Creating an instance of MyClass\n",
        "obj = MyClass(\"Alice\")\n",
        "\n",
        "# Accessing instance method (greet) with 'self'\n",
        "print(obj.greet())  # Outputs: Hello, Alice!\n",
        "\n",
        "# Accessing static method (static_method) without 'self'\n",
        "print(MyClass.static_method())  # Outputs: This is a static method and does not need 'self'.\n",
        "\n",
        "# Trying to call incorrect method without 'self' will result in an error\n",
        "# obj.incorrect_method()  # Will raise a TypeError: incorrect_method() takes 0 positional arguments but 1 was given\n"
      ],
      "metadata": {
        "colab": {
          "base_uri": "https://localhost:8080/"
        },
        "id": "bvT1H3MQBHKg",
        "outputId": "3721f1c6-70a0-4392-ca2e-11edaca6911d"
      },
      "execution_count": 1,
      "outputs": [
        {
          "output_type": "stream",
          "name": "stdout",
          "text": [
            "Hello, Alice!\n",
            "This is a static method and does not need 'self'.\n"
          ]
        }
      ]
    }
  ]
}